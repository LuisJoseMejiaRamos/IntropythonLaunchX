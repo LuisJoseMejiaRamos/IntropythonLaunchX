{
 "cells": [
  {
   "cell_type": "markdown",
   "metadata": {},
   "source": [
    "<h1>Kata 6 </h1>"
   ]
  },
  {
   "cell_type": "code",
   "execution_count": 2,
   "metadata": {},
   "outputs": [
    {
     "name": "stdout",
     "output_type": "stream",
     "text": [
      "There are 8 planets in the solar system\n",
      "There are 9 planets in the solar system\n",
      "Pluton is the last planet\n"
     ]
    }
   ],
   "source": [
    "#Lista de planetas\n",
    "planets=[\"Mercurio\", \"Venus\", \"Tierra\", \"Marte\", \"Jupiter\", \"Saturno\", \"Urano\", \"Neptuno\"]\n",
    "number_of_planets=len(planets)\n",
    "print('There are', number_of_planets, 'planets in the solar system')\n",
    "\n",
    "#Agregar un elemento y lo mostramos\n",
    "planets.append('Pluton')\n",
    "number_of_planets= len(planets)\n",
    "print('There are', number_of_planets, 'planets in the solar system')\n",
    "print(planets[-1], 'is the last planet')"
   ]
  },
  {
   "cell_type": "code",
   "execution_count": 1,
   "metadata": {},
   "outputs": [
    {
     "name": "stdout",
     "output_type": "stream",
     "text": [
      "Estos planetas están más cerca al sol que: Earth\n",
      "['Mercury', 'Venus']\n",
      "Estos planetas estás más lejos del sol que: Earth\n",
      "['Mars', 'Jupiter', 'Saturn', 'Uranus', 'Neptune']\n"
     ]
    }
   ],
   "source": [
    "#Lista de planetas\n",
    "planets=[\"Mercury\", \"Venus\", \"Earth\", \"Mars\", \"Jupiter\", \"Saturn\", \"Uranus\", \"Neptune\"]\n",
    "\n",
    "#Solicitud al usuario \n",
    "planet_user=input(\"Introduce el nombre de un planeta, con la primera letra en mayúscula y en inglés\")\n",
    "\n",
    "#Para buscar en la lista lo que escribio el usuario\n",
    "planet_index=planets.index(planet_user)\n",
    "\n",
    "#Planetas mas cercanos al sol\n",
    "closer_planet= planets[0:planet_index]\n",
    "print(\"Estos planetas están más cerca al sol que: \" + planet_user)\n",
    "print(closer_planet)\n",
    "\n",
    "\n",
    "#Planetas más lejanos al sol\n",
    "further_planet= planets[planet_index +1:]\n",
    "print(\"Estos planetas estás más lejos del sol que: \" +planet_user)\n",
    "print(further_planet)"
   ]
  }
 ],
 "metadata": {
  "interpreter": {
   "hash": "c3177b5f230a696071ca2a16a9d5e2129a6a764f7f589ae4dbd185c12fc882e4"
  },
  "kernelspec": {
   "display_name": "Python 3.10.2 64-bit",
   "language": "python",
   "name": "python3"
  },
  "language_info": {
   "codemirror_mode": {
    "name": "ipython",
    "version": 3
   },
   "file_extension": ".py",
   "mimetype": "text/x-python",
   "name": "python",
   "nbconvert_exporter": "python",
   "pygments_lexer": "ipython3",
   "version": "3.10.2"
  },
  "orig_nbformat": 4
 },
 "nbformat": 4,
 "nbformat_minor": 2
}
